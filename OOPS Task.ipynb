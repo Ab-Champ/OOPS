{
 "cells": [
  {
   "cell_type": "markdown",
   "id": "95db9df3-82c9-48af-8d4e-e1d123deba8b",
   "metadata": {},
   "source": [
    "Q1"
   ]
  },
  {
   "cell_type": "code",
   "execution_count": 34,
   "id": "cc29ba01-428a-4b8e-baeb-d8e1dea4e2f6",
   "metadata": {},
   "outputs": [],
   "source": [
    "class vehicle:\n",
    "    def __init__(self, name_of_vehicle, max_speed, average_of_vehicle):\n",
    "        self.name_of_vehicle = name_of_vehicle\n",
    "        self.max_speed = max_speed\n",
    "        self.average_of_vehicle = average_of_vehicle\n",
    "    def vehicle_details(self):\n",
    "        return  self.name_of_vehicle,self.max_speed,self.average_of_vehicle"
   ]
  },
  {
   "cell_type": "code",
   "execution_count": 35,
   "id": "239e5b62-6c98-492d-ab3f-49b268c204e7",
   "metadata": {},
   "outputs": [],
   "source": [
    "vehicle=vehicle(\"Supra\", 400, 20)"
   ]
  },
  {
   "cell_type": "code",
   "execution_count": 36,
   "id": "5402dae0-ef4b-4ef7-910e-f872692f9971",
   "metadata": {},
   "outputs": [
    {
     "data": {
      "text/plain": [
       "('Supra', 400, 20)"
      ]
     },
     "execution_count": 36,
     "metadata": {},
     "output_type": "execute_result"
    }
   ],
   "source": [
    "vehicle.vehicle_details()"
   ]
  },
  {
   "cell_type": "markdown",
   "id": "887c3637-9b74-4b53-82df-989f37a433a5",
   "metadata": {},
   "source": [
    "Q2"
   ]
  },
  {
   "cell_type": "code",
   "execution_count": 37,
   "id": "4c547ad2-9359-4bb1-87a3-6151af31427f",
   "metadata": {},
   "outputs": [],
   "source": [
    "class vehicle:\n",
    "    def __init__(self, name_of_vehicle, max_speed, average_of_vehicle):\n",
    "        self.name_of_vehicle = name_of_vehicle\n",
    "        self.max_speed = max_speed\n",
    "        self.average_of_vehicle = average_of_vehicle\n",
    "    def vehicle_details(self):\n",
    "        return  self.name_of_vehicle,self.max_speed,self.average_of_vehicle"
   ]
  },
  {
   "cell_type": "code",
   "execution_count": 38,
   "id": "128222d9-9f08-440f-915c-c4971f3c3f0b",
   "metadata": {},
   "outputs": [],
   "source": [
    "class car(vehicle):\n",
    "    def seating_capacity(self, capacity):\n",
    "        self.capacity=capacity\n",
    "        return self.name_of_vehicle, self.capacity\n",
    "        "
   ]
  },
  {
   "cell_type": "code",
   "execution_count": 39,
   "id": "027b1047-8f75-422e-a214-ca9b6605f001",
   "metadata": {},
   "outputs": [],
   "source": [
    "car=car(\"Supra\", 400, 20)"
   ]
  },
  {
   "cell_type": "code",
   "execution_count": 40,
   "id": "9c509f2b-3506-4561-bc24-7a933c1e848a",
   "metadata": {},
   "outputs": [
    {
     "data": {
      "text/plain": [
       "('Supra', 2)"
      ]
     },
     "execution_count": 40,
     "metadata": {},
     "output_type": "execute_result"
    }
   ],
   "source": [
    "car.seating_capacity(2)"
   ]
  },
  {
   "cell_type": "markdown",
   "id": "7f028084-6e5e-466c-9b01-6e8bfe680c6d",
   "metadata": {},
   "source": [
    "Q3\n",
    "\n",
    "Multiple Inheritence means when a a child class inherit properties of mor than one parent class. For example, if we have class 2 inheriting properties of class 1, class3 inheriting properties of class2, eventually it means class 3 inherits properties of class 1."
   ]
  },
  {
   "cell_type": "code",
   "execution_count": 41,
   "id": "532c51f2-0a36-442b-a116-b709b82d3378",
   "metadata": {},
   "outputs": [],
   "source": [
    "class class1:\n",
    "    def func1(self):\n",
    "        print(\"This is class 1\")\n",
    "class class2(class1):                         #parent class1\n",
    "    def func2(self):\n",
    "        print(\"This is class 2\")\n",
    "class class3(class2):                          #parent class2\n",
    "    def func3(self):\n",
    "        print(\"This is class 3\") "
   ]
  },
  {
   "cell_type": "code",
   "execution_count": 42,
   "id": "20d74a90-b954-4723-93de-d5c74cba6027",
   "metadata": {},
   "outputs": [],
   "source": [
    "obj_class3=class3()      #object of class 3"
   ]
  },
  {
   "cell_type": "code",
   "execution_count": 43,
   "id": "4fcf383d-5dff-408a-b5b4-f056006baabc",
   "metadata": {},
   "outputs": [
    {
     "name": "stdout",
     "output_type": "stream",
     "text": [
      "This is class 1\n",
      "This is class 2\n",
      "This is class 3\n"
     ]
    }
   ],
   "source": [
    "obj_class3.func1()      #object of class 3 is able to call function of class 1\n",
    "obj_class3.func2()      #object of class 3 is able to call function of class 2\n",
    "obj_class3.func3()      #object of class 3 is able to call function of class 3 (by default)"
   ]
  },
  {
   "cell_type": "markdown",
   "id": "1e3372cc-66d9-4ed3-a758-9c8e66435ba0",
   "metadata": {},
   "source": [
    "Q4\n",
    "\n",
    "Getters and setters are used in encapsulation to display and change values of a private variable respectively."
   ]
  },
  {
   "cell_type": "code",
   "execution_count": 44,
   "id": "ab2c9eb4-309b-4039-a863-dd4cc284da25",
   "metadata": {},
   "outputs": [],
   "source": [
    "class employee:\n",
    "    def __init__(self, emp_name, emp_age, emp_id):\n",
    "        self.emp_name = emp_name\n",
    "        self.emp_age = emp_age\n",
    "        self.__emp_id = emp_id    #private variable\n",
    "    \n",
    "    def get_id(self):\n",
    "        return self.__emp_id\n",
    "    \n",
    "    def set_id(self, id):\n",
    "        self.__emp_id = id if id!=self.__emp_id else self.__emp_id"
   ]
  },
  {
   "cell_type": "code",
   "execution_count": 45,
   "id": "5e8054f4-556c-409c-833e-7051570a9ba1",
   "metadata": {},
   "outputs": [],
   "source": [
    "emp1 = employee(\"Rohan\", 26, 105)"
   ]
  },
  {
   "cell_type": "code",
   "execution_count": 46,
   "id": "8c69a41f-6729-4625-9fd6-24805f23f3c7",
   "metadata": {},
   "outputs": [
    {
     "data": {
      "text/plain": [
       "105"
      ]
     },
     "execution_count": 46,
     "metadata": {},
     "output_type": "execute_result"
    }
   ],
   "source": [
    "emp1.get_id()"
   ]
  },
  {
   "cell_type": "code",
   "execution_count": 47,
   "id": "2d65b21b-4f6c-4828-b1f9-79ac2c8aad80",
   "metadata": {},
   "outputs": [
    {
     "data": {
      "text/plain": [
       "108"
      ]
     },
     "execution_count": 47,
     "metadata": {},
     "output_type": "execute_result"
    }
   ],
   "source": [
    "emp1.set_id(108)\n",
    "emp1.get_id()"
   ]
  },
  {
   "cell_type": "markdown",
   "id": "7c5730aa-6357-4541-97ac-bdfde540b018",
   "metadata": {},
   "source": [
    "Q4\n",
    "\n",
    "Method overriding means two functions or methods with same name but different arguments"
   ]
  }
 ],
 "metadata": {
  "kernelspec": {
   "display_name": "Python 3 (ipykernel)",
   "language": "python",
   "name": "python3"
  },
  "language_info": {
   "codemirror_mode": {
    "name": "ipython",
    "version": 3
   },
   "file_extension": ".py",
   "mimetype": "text/x-python",
   "name": "python",
   "nbconvert_exporter": "python",
   "pygments_lexer": "ipython3",
   "version": "3.11.0"
  }
 },
 "nbformat": 4,
 "nbformat_minor": 5
}
